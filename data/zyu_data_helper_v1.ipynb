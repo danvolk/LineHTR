{
 "cells": [
  {
   "cell_type": "markdown",
   "metadata": {},
   "source": [
    "# ZYu Data Helper 1\n",
    "\n",
    "## Load files to `./train/` and create `/train/labels.json`\n",
    "\n",
    "STEPS\n",
    "\n",
    "First unzip `lines.tgz` into folder \"data/line_data\", also put the file `lines.txt` there.\n",
    "\n",
    "\n",
    "\n",
    "- Read `line.txt` into a data-frame, which will serve as `index` to data-files\n",
    "\n",
    "- Choose some files from the `index` to serve as train data\n",
    "\n",
    "- Copy those files to `data/train`\n",
    "\n",
    "- Create `labels.json` and place it in `data/train`"
   ]
  },
  {
   "cell_type": "code",
   "execution_count": 1,
   "metadata": {
    "collapsed": true
   },
   "outputs": [],
   "source": [
    "import warnings\n",
    "warnings.filterwarnings('ignore')\n",
    "\n",
    "import re\n",
    "import os\n",
    "\n",
    "import numpy as np\n",
    "import pandas as pd\n",
    "\n",
    "import matplotlib.pyplot as plt\n",
    "%matplotlib inline\n",
    "\n",
    "from tqdm import tnrange, tqdm_notebook\n"
   ]
  },
  {
   "cell_type": "markdown",
   "metadata": {},
   "source": [
    "# Preliminary EDA"
   ]
  },
  {
   "cell_type": "code",
   "execution_count": 2,
   "metadata": {},
   "outputs": [
    {
     "name": "stdout",
     "output_type": "stream",
     "text": [
      "#--- lines.txt ---------------------------------------------------------------#\r\n",
      "#\r\n",
      "# iam database line information\r\n",
      "#\r\n",
      "# format: a01-000u-00 ok 154 19 408 746 1663 91 A|MOVE|to|stop|Mr.|Gaitskell|from\r\n",
      "#\r\n",
      "#     a01-000u-00  -> line id for form a01-000u\r\n",
      "#     ok              -> result of word segmentation\r\n",
      "#                            ok: line is correctly segmented\r\n",
      "#                            err: segmentation of line has one or more errors\r\n",
      "#\r\n",
      "#                        notice: if the line could not be properly segmented\r\n",
      "#                                the transcription and extraction of the whole\r\n",
      "#                                line should not be affected negatively\r\n",
      "#\r\n",
      "#     154             -> graylevel to binarize line\r\n",
      "#     19              -> number of components for this line\r\n",
      "#     408 746 1663 91 -> bounding box around this line in x,y,w,h format\r\n",
      "#\r\n",
      "#     A|MOVE|to|stop|Mr.|Gaitskell|from\r\n",
      "#                     -> transcription for this line. word tokens are separated\r\n",
      "#                        by the character |\r\n",
      "#\r\n"
     ]
    }
   ],
   "source": [
    "!head -23 line_data/lines.txt"
   ]
  },
  {
   "cell_type": "code",
   "execution_count": 3,
   "metadata": {},
   "outputs": [
    {
     "name": "stdout",
     "output_type": "stream",
     "text": [
      "a01-000u-00 ok 154 19 408 746 1661 89 A|MOVE|to|stop|Mr.|Gaitskell|from\r\n",
      "a01-000u-01 ok 156 19 395 932 1850 105 nominating|any|more|Labour|life|Peers\r\n",
      "a01-000u-02 ok 157 16 408 1106 1986 105 is|to|be|made|at|a|meeting|of|Labour\r\n",
      "a01-000u-03 err 156 23 430 1290 1883 70 M Ps|tomorrow|.|Mr.|Michael|Foot|has\r\n",
      "a01-000u-04 ok 157 20 395 1474 1830 94 put|down|a|resolution|on|the|subject\r\n",
      "a01-000u-05 err 156 21 379 1643 1854 88 and|he|is|to|be|backed|by|Mr.|Will\r\n",
      "a01-000u-06 ok 159 20 363 1825 2051 87 Griffiths|,|M P|for|Manchester|Exchange|.\r\n",
      "a01-000x-00 ok 182 30 375 748 1561 148 A|MOVE|to|stop|Mr.|Gaitskell|from|nominating\r\n",
      "a01-000x-01 ok 181 23 382 924 1595 148 any|more|Labour|life|Peers|is|to|be|made|at|a\r\n",
      "a01-000x-02 ok 181 30 386 1110 1637 140 meeting|of|Labour|0M Ps|tomorrow|.|Mr.|Michael\r\n",
      "a01-000x-03 ok 179 22 375 1276 1584 154 Foot|has|put|down|a|resolution|on|the|subject\r\n",
      "a01-000x-04 ok 173 25 397 1458 1647 148 and|he|is|to|be|backed|by|Mr.|Will|Griffiths|,\r\n",
      "a01-000x-05 ok 173 16 393 1635 1082 155 0M P|for|Manchester|Exchange|.\r\n",
      "a01-003-00 ok 176 31 325 896 1807 139 Though|they|may|gather|some|Left-wing|support|,|a\r\n",
      "a01-003-01 ok 176 29 319 1078 1787 126 large|majority|of|Labour|M Ps|are|likely|to\r\n",
      "a01-003-02 ok 176 29 315 1259 1744 128 turn|down|the|Foot-Griffiths|resolution|.|Mr.\r\n",
      "a01-003-03 ok 176 28 316 1441 1750 70 Foot's|line|will|be|that|as|Labour|M Ps\r\n",
      "a01-003-04 ok 161 28 325 1619 1848 113 opposed|the|Government|Bill|which|brought\r\n",
      "a01-003-05 ok 176 29 325 1779 1871 143 life|peers|into|existence|,|they|should|not\r\n",
      "a01-003-06 ok 176 28 326 1980 1873 126 now|put|forward|nominees|.|He|believes\r\n",
      "a01-003-07 ok 161 27 295 2147 1921 129 that|the|House|of|Lords|should|be|abolished\r\n",
      "a01-003-08 ok 161 29 317 2318 1849 117 and|that|Labour|should|not|take|any|steps\r\n",
      "a01-003-09 err 161 29 313 2509 1975 125 which|would|appear|to|\"|prop|up|\"|an|out-dated\r\n",
      "a01-003-10 ok 161 11 322 2701 363 66 institution|.\r\n",
      "a01-003u-00 ok 159 18 357 800 1938 106 Though|they|may|gather|some|Left-wing\r\n"
     ]
    }
   ],
   "source": [
    "!head -25 line_data/lines_copy.txt"
   ]
  },
  {
   "cell_type": "code",
   "execution_count": null,
   "metadata": {
    "collapsed": true
   },
   "outputs": [],
   "source": []
  },
  {
   "cell_type": "markdown",
   "metadata": {},
   "source": [
    "### NOTE\n",
    "\n",
    "There are lines (4, 13 ...) with label containing spaces that can cause trouble when spliting by \" \":\n",
    "\n",
    "`a01-000x-05 ok 173 16 393 1635 1082 155 0M P|for|Manchester|Exchange|.`\n",
    "\n",
    "EDA shows 13317 rows have 9 fields, but there are 23 rows with 10 fields, and 13 rows with 11 fields, these will cause trouble if reading the 'lines_copy.txt' file into CSV."
   ]
  },
  {
   "cell_type": "code",
   "execution_count": null,
   "metadata": {
    "collapsed": true
   },
   "outputs": [],
   "source": [
    "# SHOW LINES WITH > 9 FIELDS\n",
    "# count the number of fields if delimited by \" \"\n",
    "from collections import defaultdict\n",
    "\n",
    "file_in = 'line_data/lines_copy.txt'\n",
    "\n",
    "fhand = open(file_in)\n",
    "\n",
    "num_count = defaultdict(int)\n",
    "\n",
    "for line in fhand:\n",
    "    num = len(line.split(\" \"))\n",
    "    num_count[num] +=1\n",
    "    if num > 9:\n",
    "        print(line)\n",
    "\n",
    "fhand.close()\n",
    "\n",
    "num_count"
   ]
  },
  {
   "cell_type": "markdown",
   "metadata": {
    "collapsed": true
   },
   "source": [
    "# 1. Read meta-data into a dataframe"
   ]
  },
  {
   "cell_type": "code",
   "execution_count": 4,
   "metadata": {},
   "outputs": [
    {
     "data": {
      "text/html": [
       "<div>\n",
       "<style>\n",
       "    .dataframe thead tr:only-child th {\n",
       "        text-align: right;\n",
       "    }\n",
       "\n",
       "    .dataframe thead th {\n",
       "        text-align: left;\n",
       "    }\n",
       "\n",
       "    .dataframe tbody tr th {\n",
       "        vertical-align: top;\n",
       "    }\n",
       "</style>\n",
       "<table border=\"1\" class=\"dataframe\">\n",
       "  <thead>\n",
       "    <tr style=\"text-align: right;\">\n",
       "      <th></th>\n",
       "      <th>id</th>\n",
       "      <th>wseg_status</th>\n",
       "      <th>graylevel</th>\n",
       "      <th>num_components</th>\n",
       "      <th>x</th>\n",
       "      <th>y</th>\n",
       "      <th>w</th>\n",
       "      <th>h</th>\n",
       "      <th>label</th>\n",
       "    </tr>\n",
       "  </thead>\n",
       "  <tbody>\n",
       "    <tr>\n",
       "      <th>0</th>\n",
       "      <td>a01-000u-00</td>\n",
       "      <td>ok</td>\n",
       "      <td>154</td>\n",
       "      <td>19</td>\n",
       "      <td>408</td>\n",
       "      <td>746</td>\n",
       "      <td>1661</td>\n",
       "      <td>89</td>\n",
       "      <td>A MOVE to stop Mr. Gaitskell from</td>\n",
       "    </tr>\n",
       "    <tr>\n",
       "      <th>1</th>\n",
       "      <td>a01-000u-01</td>\n",
       "      <td>ok</td>\n",
       "      <td>156</td>\n",
       "      <td>19</td>\n",
       "      <td>395</td>\n",
       "      <td>932</td>\n",
       "      <td>1850</td>\n",
       "      <td>105</td>\n",
       "      <td>nominating any more Labour life Peers</td>\n",
       "    </tr>\n",
       "    <tr>\n",
       "      <th>2</th>\n",
       "      <td>a01-000u-02</td>\n",
       "      <td>ok</td>\n",
       "      <td>157</td>\n",
       "      <td>16</td>\n",
       "      <td>408</td>\n",
       "      <td>1106</td>\n",
       "      <td>1986</td>\n",
       "      <td>105</td>\n",
       "      <td>is to be made at a meeting of Labour</td>\n",
       "    </tr>\n",
       "    <tr>\n",
       "      <th>3</th>\n",
       "      <td>a01-000u-03</td>\n",
       "      <td>err</td>\n",
       "      <td>156</td>\n",
       "      <td>23</td>\n",
       "      <td>430</td>\n",
       "      <td>1290</td>\n",
       "      <td>1883</td>\n",
       "      <td>70</td>\n",
       "      <td>M Ps tomorrow . Mr. Michael Foot has</td>\n",
       "    </tr>\n",
       "    <tr>\n",
       "      <th>4</th>\n",
       "      <td>a01-000u-04</td>\n",
       "      <td>ok</td>\n",
       "      <td>157</td>\n",
       "      <td>20</td>\n",
       "      <td>395</td>\n",
       "      <td>1474</td>\n",
       "      <td>1830</td>\n",
       "      <td>94</td>\n",
       "      <td>put down a resolution on the subject</td>\n",
       "    </tr>\n",
       "  </tbody>\n",
       "</table>\n",
       "</div>"
      ],
      "text/plain": [
       "            id wseg_status  graylevel  num_components    x     y     w    h  \\\n",
       "0  a01-000u-00          ok        154              19  408   746  1661   89   \n",
       "1  a01-000u-01          ok        156              19  395   932  1850  105   \n",
       "2  a01-000u-02          ok        157              16  408  1106  1986  105   \n",
       "3  a01-000u-03         err        156              23  430  1290  1883   70   \n",
       "4  a01-000u-04          ok        157              20  395  1474  1830   94   \n",
       "\n",
       "                                   label  \n",
       "0      A MOVE to stop Mr. Gaitskell from  \n",
       "1  nominating any more Labour life Peers  \n",
       "2   is to be made at a meeting of Labour  \n",
       "3   M Ps tomorrow . Mr. Michael Foot has  \n",
       "4   put down a resolution on the subject  "
      ]
     },
     "execution_count": 4,
     "metadata": {},
     "output_type": "execute_result"
    }
   ],
   "source": [
    "file_in = 'line_data/lines_copy.txt'\n",
    "\n",
    "fhand = open(file_in)\n",
    "data_list = [] \n",
    "\n",
    "for line in fhand:\n",
    "    item = line.split(\" \")   # split the line\n",
    "    num = len(item)          # number of fields if line delimited by \" \"\n",
    "    \n",
    "    if num == 9:             # good lines\n",
    "        label = item[8]      # last field is label if only 9 field\n",
    "    else:                    # bad lines with spaces in \"label\"\n",
    "        label = \" \".join(item[8:])    # join the remaining fields - this is label\n",
    "\n",
    "    new_data  ={'id': item[0], \n",
    "                'wseg_status': item[1], \n",
    "                'graylevel': int(item[2]), \n",
    "                'num_components': int(item[3]), \n",
    "                'x': int(item[4]), \n",
    "                'y': int(item[5]), \n",
    "                'w': int(item[6]), \n",
    "                'h': int(item[7]), \n",
    "                'label': label.rstrip().replace(\"|\", \" \")}   # remove \"\\n\", replace \"|\" with \" \"\n",
    "    \n",
    "    data_list.append(new_data)\n",
    "    \n",
    "fhand.close()\n",
    "\n",
    "df = pd.DataFrame(data_list, \n",
    "                  columns=['id', 'wseg_status', 'graylevel', 'num_components', 'x', 'y', 'w', 'h', 'label'])\n",
    "\n",
    "df.head()"
   ]
  },
  {
   "cell_type": "code",
   "execution_count": 5,
   "metadata": {},
   "outputs": [
    {
     "data": {
      "text/plain": [
       "id                object\n",
       "wseg_status       object\n",
       "graylevel          int64\n",
       "num_components     int64\n",
       "x                  int64\n",
       "y                  int64\n",
       "w                  int64\n",
       "h                  int64\n",
       "label             object\n",
       "dtype: object"
      ]
     },
     "execution_count": 5,
     "metadata": {},
     "output_type": "execute_result"
    }
   ],
   "source": [
    "df.dtypes"
   ]
  },
  {
   "cell_type": "code",
   "execution_count": 6,
   "metadata": {},
   "outputs": [
    {
     "data": {
      "image/png": "[encoded data removed]",
      "text/plain": [
       "<matplotlib.figure.Figure at 0x7fe5a9c83208>"
      ]
     },
     "metadata": {},
     "output_type": "display_data"
    }
   ],
   "source": [
    "plt.figure(1, figsize=(15,4))\n",
    "plt.subplot(121)\n",
    "df['w'].hist(bins=50)\n",
    "plt.subplot(122)\n",
    "df['h'].hist(bins=50)\n",
    "plt.show()"
   ]
  },
  {
   "cell_type": "markdown",
   "metadata": {},
   "source": [
    "# 2. Choose files from the dataframe\n",
    "\n",
    "- `wseg_status` has 11344 `ok`, 2009 `err`\n",
    "\n",
    "- df has 11 files with `w==1600` and 161 files with `h==128`\n",
    "\n",
    "- for initial test, choose those files with `w==1600` or `h==128`"
   ]
  },
  {
   "cell_type": "code",
   "execution_count": 7,
   "metadata": {},
   "outputs": [
    {
     "name": "stdout",
     "output_type": "stream",
     "text": [
      "(161, 9)\n",
      "(11, 9)\n"
     ]
    },
    {
     "data": {
      "text/html": [
       "<div>\n",
       "<style>\n",
       "    .dataframe thead tr:only-child th {\n",
       "        text-align: right;\n",
       "    }\n",
       "\n",
       "    .dataframe thead th {\n",
       "        text-align: left;\n",
       "    }\n",
       "\n",
       "    .dataframe tbody tr th {\n",
       "        vertical-align: top;\n",
       "    }\n",
       "</style>\n",
       "<table border=\"1\" class=\"dataframe\">\n",
       "  <thead>\n",
       "    <tr style=\"text-align: right;\">\n",
       "      <th></th>\n",
       "      <th>id</th>\n",
       "      <th>wseg_status</th>\n",
       "      <th>graylevel</th>\n",
       "      <th>num_components</th>\n",
       "      <th>x</th>\n",
       "      <th>y</th>\n",
       "      <th>w</th>\n",
       "      <th>h</th>\n",
       "      <th>label</th>\n",
       "    </tr>\n",
       "  </thead>\n",
       "  <tbody>\n",
       "    <tr>\n",
       "      <th>1075</th>\n",
       "      <td>a03-066-01</td>\n",
       "      <td>ok</td>\n",
       "      <td>203</td>\n",
       "      <td>19</td>\n",
       "      <td>345</td>\n",
       "      <td>908</td>\n",
       "      <td>1600</td>\n",
       "      <td>120</td>\n",
       "      <td>remove these doubts , and to persuade the</td>\n",
       "    </tr>\n",
       "    <tr>\n",
       "      <th>1377</th>\n",
       "      <td>a05-013-00</td>\n",
       "      <td>err</td>\n",
       "      <td>176</td>\n",
       "      <td>19</td>\n",
       "      <td>363</td>\n",
       "      <td>757</td>\n",
       "      <td>1600</td>\n",
       "      <td>73</td>\n",
       "      <td>The scheme will be subject to Cabinet</td>\n",
       "    </tr>\n",
       "    <tr>\n",
       "      <th>1830</th>\n",
       "      <td>a06-147-02</td>\n",
       "      <td>ok</td>\n",
       "      <td>179</td>\n",
       "      <td>28</td>\n",
       "      <td>352</td>\n",
       "      <td>1283</td>\n",
       "      <td>1600</td>\n",
       "      <td>62</td>\n",
       "      <td>WEST GERMANY - Russia would like to see a clear #</td>\n",
       "    </tr>\n",
       "    <tr>\n",
       "      <th>3057</th>\n",
       "      <td>c03-003b-03</td>\n",
       "      <td>ok</td>\n",
       "      <td>151</td>\n",
       "      <td>10</td>\n",
       "      <td>324</td>\n",
       "      <td>1311</td>\n",
       "      <td>1600</td>\n",
       "      <td>111</td>\n",
       "      <td>the marriage of the central characters to their</td>\n",
       "    </tr>\n",
       "    <tr>\n",
       "      <th>3281</th>\n",
       "      <td>c03-081b-00</td>\n",
       "      <td>ok</td>\n",
       "      <td>154</td>\n",
       "      <td>9</td>\n",
       "      <td>326</td>\n",
       "      <td>749</td>\n",
       "      <td>1600</td>\n",
       "      <td>128</td>\n",
       "      <td>Arguably , the dramatist has committed a</td>\n",
       "    </tr>\n",
       "  </tbody>\n",
       "</table>\n",
       "</div>"
      ],
      "text/plain": [
       "               id wseg_status  graylevel  num_components    x     y     w  \\\n",
       "1075   a03-066-01          ok        203              19  345   908  1600   \n",
       "1377   a05-013-00         err        176              19  363   757  1600   \n",
       "1830   a06-147-02          ok        179              28  352  1283  1600   \n",
       "3057  c03-003b-03          ok        151              10  324  1311  1600   \n",
       "3281  c03-081b-00          ok        154               9  326   749  1600   \n",
       "\n",
       "        h                                              label  \n",
       "1075  120          remove these doubts , and to persuade the  \n",
       "1377   73              The scheme will be subject to Cabinet  \n",
       "1830   62  WEST GERMANY - Russia would like to see a clear #  \n",
       "3057  111    the marriage of the central characters to their  \n",
       "3281  128           Arguably , the dramatist has committed a  "
      ]
     },
     "execution_count": 7,
     "metadata": {},
     "output_type": "execute_result"
    }
   ],
   "source": [
    "df_train= df[df['h']==128]\n",
    "\n",
    "df_test = df[df['w']==1600]\n",
    "\n",
    "print(df_train.shape)\n",
    "print(df_test.shape)\n",
    "\n",
    "df_test.head()"
   ]
  },
  {
   "cell_type": "markdown",
   "metadata": {},
   "source": [
    "# 3. Copy the chosen files to the destination and create json\n",
    "\n",
    "For example, the first line:\n",
    "\n",
    "- source: `./line_data/a03/a03-066/a03-066-01.png`\n",
    "\n",
    "- destination: `./train/a03-066-01.png`\n",
    "\n",
    "- label: `remove|these|doubts|,|and|to|persuade|the`\n",
    "\n",
    "Work flow:\n",
    "\n",
    "- initialize `file_list={}`\n",
    "\n",
    "- loop through each line in the data frame\n",
    "\n",
    "- use `id` field to create `source` and `destination`, `file_name`\n",
    "\n",
    "- use `label` to create `label`\n",
    "\n",
    "- copy `source` to `destination`\n",
    "\n",
    "- add `{file_name: label}` to `file_list`\n",
    "\n",
    "- create `labels.json` and put it in `./train`\n",
    "\n"
   ]
  },
  {
   "cell_type": "markdown",
   "metadata": {},
   "source": [
    "### Define helper functions"
   ]
  },
  {
   "cell_type": "code",
   "execution_count": 8,
   "metadata": {
    "collapsed": true
   },
   "outputs": [],
   "source": [
    "def clean_folder(destination_dir):\n",
    "    \"\"\"\n",
    "    only delete files and to used the os.path.join() method  \n",
    "    If you also want to remove subdirectories, uncomment the elif statement.\n",
    "    \"\"\"\n",
    "    \n",
    "    import os, shutil\n",
    "    folder = destination_dir\n",
    "    \n",
    "    count = 0\n",
    "    for the_file in os.listdir(folder):\n",
    "        file_path = os.path.join(folder, the_file)\n",
    "        try:\n",
    "            if os.path.isfile(file_path):\n",
    "                os.unlink(file_path)\n",
    "                count += 1\n",
    "            #elif os.path.isdir(file_path): shutil.rmtree(file_path)\n",
    "        except Exception as e:\n",
    "            print(e)\n",
    "    print(\"Successfully removed\", count, \"files\")        \n",
    "    \n",
    "\n",
    "def copy_files(df, source_dir, destination_dir):\n",
    "    \"\"\"\n",
    "    copying files from source to destionation\n",
    "    INPUT: df is a dataframe containing file information\n",
    "    OUTPUT: json_list of {file_name:file_label} pairs    \n",
    "    \"\"\"\n",
    "\n",
    "    from shutil import copy2\n",
    "    json_dict = dict()\n",
    "\n",
    "    for i in tnrange(df.shape[0], desc='copying files'):    \n",
    "\n",
    "        # read data from each row\n",
    "        file_data = df.iloc[i]            # each line in dataframe\n",
    "        file_id = file_data['id']         # data for file\n",
    "        file_name = file_id + '.png'      # file_name\n",
    "        file_label = file_data['label']   # label\n",
    "        \n",
    "        # create source and destination \n",
    "        id_pc = file_id.split(\"-\")\n",
    "        source = source_dir + id_pc[0] + \"/\" + id_pc[0] + \"-\" + id_pc[1] + \"/\" + file_name\n",
    "        destination = destination_dir  + file_name\n",
    "\n",
    "        # copy source to destination\n",
    "        copy2(source, destination)\n",
    "\n",
    "        # append the {file_name: file_label} to json_list\n",
    "        json_dict[file_name]= file_label\n",
    "\n",
    "    return json_dict\n",
    "\n",
    "def write_json_file(destination_dir, json_dict):\n",
    "    \"\"\"\n",
    "    write json to the 'labels.json file in the destination directory\n",
    "    \"\"\"\n",
    "    import json\n",
    "\n",
    "    with open(destination_dir + 'labels.json', 'w') as fout:\n",
    "        json.dump(json_dict, fout)\n",
    "        \n",
    "    print(destination_dir+'labels.json has been created.')"
   ]
  },
  {
   "cell_type": "markdown",
   "metadata": {},
   "source": [
    "### Copy files listed in the input dataframe to destination"
   ]
  },
  {
   "cell_type": "code",
   "execution_count": 9,
   "metadata": {
    "collapsed": true
   },
   "outputs": [],
   "source": [
    "source_dir = './line_data/'\n",
    "destination_dir = './train/'"
   ]
  },
  {
   "cell_type": "code",
   "execution_count": 10,
   "metadata": {},
   "outputs": [
    {
     "name": "stdout",
     "output_type": "stream",
     "text": [
      "Successfully removed 162 files\n"
     ]
    }
   ],
   "source": [
    "# OPTIONAL: clean the destination folder if needed\n",
    "clean_folder(destination_dir)"
   ]
  },
  {
   "cell_type": "code",
   "execution_count": 11,
   "metadata": {},
   "outputs": [
    {
     "data": {
      "application/vnd.jupyter.widget-view+json": {
       "model_id": "8f0541bd792e4fe196fa1cd432706b04",
       "version_major": 2,
       "version_minor": 0
      },
      "text/plain": [
       "A Jupyter Widget"
      ]
     },
     "metadata": {},
     "output_type": "display_data"
    },
    {
     "name": "stdout",
     "output_type": "stream",
     "text": [
      "\n",
      "Copied 161 files.\n"
     ]
    }
   ],
   "source": [
    "# copying files from source to destination\n",
    "json_dict = copy_files(df_train, source_dir, destination_dir)\n",
    "\n",
    "print(\"Copied\", len(json_dict), \"files.\")"
   ]
  },
  {
   "cell_type": "code",
   "execution_count": 12,
   "metadata": {},
   "outputs": [
    {
     "name": "stdout",
     "output_type": "stream",
     "text": [
      "    161     161    2456\r\n"
     ]
    }
   ],
   "source": [
    "# take a look\n",
    "!ls train | wc "
   ]
  },
  {
   "cell_type": "markdown",
   "metadata": {},
   "source": [
    "### Write json to `labels.json` and put it in destination directory"
   ]
  },
  {
   "cell_type": "code",
   "execution_count": 13,
   "metadata": {},
   "outputs": [
    {
     "name": "stdout",
     "output_type": "stream",
     "text": [
      "./train/labels.json has been created.\n"
     ]
    }
   ],
   "source": [
    "write_json_file(destination_dir, json_dict)"
   ]
  },
  {
   "cell_type": "code",
   "execution_count": 14,
   "metadata": {},
   "outputs": [
    {
     "name": "stdout",
     "output_type": "stream",
     "text": [
      "{\"a01-003-02.png\": \"turn down the Foot-Griffiths resolution . Mr.\", \"a01-003x-03.png\": \"will be that as Labour 0M Ps opposed the Govern-\", \"a01-020-03.png\": \"to the Africans and Liberals attending . These\", \"a01-020-06.png\": \"are studying them today . The conference\", \"a01-107-00.png\": \"We believe that a comprehensive medical service , free to the patient\", \"a02-067-01.png\": \"should not be bound over for disturbing\", \"a02-067-06.png\": \"putting his affairs in order , and\", \"a02-098-03.png\": \"suggestion that there may be fresh concessions to the\", \"a02-120-05.png\": \"It was last used a year ago , to deal\", \"a03-023-03.png\": \"of the pro-communists . Most of the\", \"a03-066-07.png\": \"to contemplate in an election year .\", \"a04-039-00.png\": \"In VIENNA , before flying off to Moscow ,\", \"a04-089-06.png\": \"British territory . \\\" He pointed out that\", \"a04-092-06.png\": \"circles , but in public opinion . \\\" Earl Russell\", \"a05-004-07.png\": \"organisation . Mr. Watkinson , Minister of Defence ,\", \"a06-008-02.png\": \"legislation . \\\" Why don't you make proposals to legislate\", \"a06-119-00.png\": \"Note circulation soared for the\", \"b01-113-07.png\": \"cramped and primitive existence .\", \"b03-098-00.png\": \"The press and the broadcasting authorities are\", \"b04-040-02.png\": \"did his best for them , even driving them to a new house . John\", \"b05-042-09.png\": \"audio-TV training techniques , he can be switched\", \"b05-045-02.png\": \"a ceramic factory , he can be qualified\", \"b05-045-05.png\": \"Martyrs ! \\\" \\\" CRICKET , \\\" says the Oxford\", \"b05-098-02.png\": \"impressed with this poem but , on re-\", \"b06-075-09.png\": \"and those who are for this policy - which is the\", \"b06-079-00.png\": \"It is impossible for Labour's new Defence state-\", \"c02-003-06.png\": \"film ro*?5le in Ka\\\"utner's \\\" Die letzt\", \"c02-026-04.png\": \"with brutal honesty , building up to a\", \"c03-003a-02.png\": \"and again and again it is the visual qualities\", \"c03-003a-07.png\": \"Mr. Joshua Logan , attempted but failed to create\", \"c03-007-07.png\": \"are seen as an integral part of the story .\", \"c03-003f-01.png\": \"ved throughout in terms of the cinema ,\", \"c03-007f-00.png\": \"In A Taste of Honey Mr. Richardson has\", \"c03-021b-02.png\": \"women but yet moved by a strong maternal instinct to\", \"c03-081b-00.png\": \"Arguably , the dramatist has committed a\", \"c03-081f-00.png\": \"Arguably , the dramatist has committed a\", \"c03-084b-03.png\": \"them . Last night's play in the \\\" Play of the\", \"c03-084f-03.png\": \"over-emphasizing them . Last night's play\", \"c03-087a-02.png\": \"generate a melodramatic inevitability which\", \"c03-087b-07.png\": \"way in which Mr. Ferris manipulated\", \"c04-039-07.png\": \"performance as the master mind behind a\", \"c06-031-06.png\": \"on into reminiscences of his trips . There is\", \"c06-043-05.png\": \"he was \\\" off the gargle - a retired\", \"c06-087-03.png\": \"inevitably , the place is full of American teenagers on an\", \"d01-049-05.png\": \"showing that such changes are part of a\", \"d04-131-05.png\": \"eating Matzos in Egypt and the \\\" Feast of Matzos \\\"\", \"d06-030-04.png\": \"effective , must be of that child-like quality which comes\", \"d06-056-07.png\": \"if the trouble is a complicated one\", \"d06-076-02.png\": \"necessary weariness . ( a ) Order makes for a decrease in tiredness .\", \"d06-104-10.png\": \"3 p.m. .\", \"d07-096-05.png\": \"in Heaven ' in both sugyoth . Such an\", \"d07-102-03.png\": \"the court of Shem , the court of Samuel of Ramah ,\", \"e01-014-01.png\": \"that he was a great man for lace - paying\", \"e02-000-01.png\": \"legs , and in reproduction period pieces they\", \"e04-015-03.png\": \"cross pieces and is made of 1/2 in. plywood\", \"e04-043-01.png\": \"rowing dinghy many of which I have built and\", \"e04-083-03.png\": \"to allow for the chines to rest in these\", \"e06-021-02.png\": \"be accidental . Yet there will always be some\", \"e06-021-04.png\": \"the robin who gets back exactly may be\", \"e07-007-01.png\": \"is not new to the American gardener . Lady-\", \"e07-012-05.png\": \"the fully adult , 2 1/2-in.-long insect ,\", \"f01-058-08.png\": \"abolish it from the dictionary , most\", \"f01-070-03.png\": \"with the atomic theory , in giving a clear and detailed\", \"f01-147-08.png\": \"the neuro-physiologists .\", \"f04-004-07.png\": \"had been murder .\", \"f04-093-02.png\": \"girl , and he said he had last seen her\", \"f04-100-03.png\": \"and this matched reasonably well with\", \"f07-016-06.png\": \"by Catherine de Medici . The peasant in\", \"f07-021b-02.png\": \"Britons , I believe , used to make water hot\", \"f07-032b-02.png\": \"aroused the fainting appetite and added a\", \"f07-032b-06.png\": \"subject of no little importance to the Romans .\", \"f07-039a-03.png\": \"is said that there is nothing new under\", \"g01-067-09.png\": \"different classes of laymen and clerics .\", \"g04-026-02.png\": \"old school friend at Clifton . He could sustain the tenor part quite well\", \"g04-036-07.png\": \"great family consultations .\", \"g04-039-03.png\": \"at the age of 92 . Dr. Burge was not able to be present\", \"g04-104-02.png\": \"The Bishop , knowing that I spent my holidays in\", \"g06-018b-08.png\": \"damp , but the temperature is high\", \"g06-018c-07.png\": \"yet thought of a fire ... .\", \"g06-018e-06.png\": \"high & I have not yet thought of a fire ... .\", \"g06-018l-00.png\": \"When the sailing season was past , he sent Pearl back to\", \"g06-018m-04.png\": \"place agree with me better than Naples . The journey\", \"g06-026b-03.png\": \"ever was . But he has not one word\", \"g06-031d-07.png\": \"knows what may happen ... .\", \"g06-031j-01.png\": \"infatuation ! Personally I am indifferent ,\", \"g06-037m-03.png\": \"him off yesterday . ' While he was in Naples\", \"g06-042e-02.png\": \"douloureux . As early as 1830 , when Anglesey believed\", \"g06-042o-00.png\": \"Nor is this to be wondered at , for even\", \"g06-045d-00.png\": \"In April of that year his first wife's brother-in-law , the\", \"g06-045j-00.png\": \"In April of that year his first wife's brother-\", \"g06-047a-06.png\": \"Dr Giuseppe Mauro , whom Anglesey consulted\", \"g06-047d-03.png\": \"had an increasing number of disciples among unorthodox\", \"g06-050a-06.png\": \"and sedate , not easily irritated , patient and\", \"g06-050a-07.png\": \"persevering , ' but he appears to despair of ever\", \"g06-050m-04.png\": \"told Hahnemann that he found Anglesey a\", \"g06-050n-00.png\": \"Mauro's first action was to write to his\", \"g07-022b-01.png\": \"to Lady Byron after she had received a visit from\", \"g07-022b-05.png\": \"with great feeling . The unfortunate Augusta was\", \"g07-026b-04.png\": \"in secret the unguarded letters he never\", \"g07-034-02.png\": \"convulsed with grief ' . So love revived , and in\", \"g07-065-06.png\": \"illness , but Dallas junior was full of\", \"h01-010-07.png\": \"was given its present form in 1931 .\", \"h01-014-05.png\": \"made during the enumeration lists all buildings , residen-\", \"h01-027-01.png\": \"analysis it was not considered sufficiently\", \"h01-027-09.png\": \"had become more important by 1961 , and\", \"h04-061-00.png\": \"78 . Regression estimates of the expenditure on\", \"h07-054a-05.png\": \"There is evidence of greater interest today ,\", \"h07-066a-00.png\": \"Local offices of the Ministry of Labour , Ministry of National\", \"h07-071a-02.png\": \"relatively few retirements . For the most part therefore\", \"h07-075-07.png\": \"building has lagged behind the demand .\", \"j04-015-06.png\": \"bismuth-210 by anion exchange . The 15b-counting\", \"j07-005-01.png\": \"foil bonded to the primary plates to\", \"j07-005-05.png\": \"the coolant pressure loadings . The introduction of the aluminium alloy\", \"k02-076-00.png\": \"Perhaps Lee wasn't quite as\", \"k02-117-09.png\": \"awaiting me .\", \"k04-005-05.png\": \"wearied of his toy and was packing it away in its painted\", \"k04-022-05.png\": \"fringe of the party , caught snatches of this\", \"k04-022-07.png\": \"' ... now this sapphire ...\", \"k04-093-02.png\": \"crouching in the doorway of the church and exhibiting\", \"k04-149-05.png\": \"Palace . Be pleased to alight . ' ' I think , ' she replied\", \"k04-163-04.png\": \"breathing the scent of thyme . The land at her feet sloped\", \"k07-134-05.png\": \"comments like that . Once she quietly\", \"k07-185-04.png\": \"little Mary would probably have\", \"l01-173-01.png\": \"do it to me , Nick . I 've worked this room up to\", \"l04-034-05.png\": \"we could get rid of him ... ' Harry\", \"l04-102-03.png\": \"parrot nose and straight line of the mouth ,\", \"l04-102-08.png\": \"now in the silent darkness .\", \"l04-118-04.png\": \"background . Furthermore , dear boy , it confirms\", \"l04-153-00.png\": \"' No dice , Hugh . ' Roddy shook his sandy head .\", \"l07-080-05.png\": \"how much the idea appealed to\", \"l07-138-03.png\": \"and I began to look forward to my life\", \"m01-090-00.png\": \"After what seemed an undue period of repetition , the voice\", \"m02-080-04.png\": \"plump hand towards her grand pianos , etc :\", \"m02-102-01.png\": \"managers of corporations , together with professors\", \"m02-109-06.png\": \"neurosis and not in some eruption from those\", \"m03-033-06.png\": \"of a bottle . If your lordship will excuse me\", \"m03-062-06.png\": \"so unexpected , so unusual , that only the\", \"m04-000-06.png\": \"to know . But the fact remains that get\", \"m04-123-05.png\": \"herself up proper ... Getting dark , now .\", \"m04-131-01.png\": \"the sleeping Cadwallader . Driver and\", \"m04-180-00.png\": \"All lit up . Full of people waving as you went past . \\\"\", \"n01-020-08.png\": \"flickered across its surface , but there was\", \"n01-031-08.png\": \"ground immediately ahead .\", \"n01-045-06.png\": \"in on minimum engine power . \\\" Geoffrey\", \"n01-045-08.png\": \"they were still more than four hundred\", \"n02-037-04.png\": \"on his taking her out in the jeep -\", \"n02-062-00.png\": \"You made some sort of a protest to Graybury .\", \"n02-114-02.png\": \"She said icily , \\\" As you pride yourself on\", \"n03-079-05.png\": \"out and sucked in his baggy black\", \"n04-084-01.png\": \"Bawley ? \\\" \\\" A pressman is always on the job . \\\"\", \"n06-123-07.png\": \"got hotter as the day wore on and we rested\", \"n06-133-05.png\": \"out . \\\" We don't aim to come any closer and we 've\", \"p01-168-02.png\": \"been attending some kind of fancy dress do\", \"p03-027-07.png\": \"Little Phelpham .\", \"p03-112-03.png\": \"become you to behave like a - a tart , Di . \\\"\", \"p03-185-06.png\": \"Something had cropped up which required Nigel's attention ,\", \"r02-078-07.png\": \"retrieving lost property .\", \"r06-090-07.png\": \"sweet signals in the air . When we\", \"r06-111-04.png\": \"she felt small flats were altogether more\", \"r06-121-05.png\": \"towards each other as they talked . In\", \"r06-137-04.png\": \"of the cruelty of the world . Finally Catherine\"}"
     ]
    }
   ],
   "source": [
    "!cat ./train/labels.json"
   ]
  },
  {
   "cell_type": "markdown",
   "metadata": {},
   "source": [
    "### copy some files to `./test` as well"
   ]
  },
  {
   "cell_type": "code",
   "execution_count": 15,
   "metadata": {},
   "outputs": [
    {
     "name": "stdout",
     "output_type": "stream",
     "text": [
      "Successfully removed 12 files\n"
     ]
    }
   ],
   "source": [
    "source_dir = './line_data/'\n",
    "destination_dir = './test/'\n",
    "\n",
    "# OPTIONAL: clean the destination folder if needed\n",
    "clean_folder(destination_dir)"
   ]
  },
  {
   "cell_type": "code",
   "execution_count": 16,
   "metadata": {},
   "outputs": [
    {
     "data": {
      "application/vnd.jupyter.widget-view+json": {
       "model_id": "7b96878bbbef493b9f4864bfee8dc2b8",
       "version_major": 2,
       "version_minor": 0
      },
      "text/plain": [
       "A Jupyter Widget"
      ]
     },
     "metadata": {},
     "output_type": "display_data"
    },
    {
     "name": "stdout",
     "output_type": "stream",
     "text": [
      "\n",
      "Copied 11 files.\n"
     ]
    }
   ],
   "source": [
    "# copying files from source to destination\n",
    "json_dict = copy_files(df_test, source_dir, destination_dir)\n",
    "\n",
    "print(\"Copied\", len(json_dict), \"files.\")"
   ]
  },
  {
   "cell_type": "code",
   "execution_count": 17,
   "metadata": {},
   "outputs": [
    {
     "name": "stdout",
     "output_type": "stream",
     "text": [
      "./test/labels.json has been created.\n"
     ]
    }
   ],
   "source": [
    "write_json_file(destination_dir, json_dict)"
   ]
  },
  {
   "cell_type": "code",
   "execution_count": 18,
   "metadata": {},
   "outputs": [
    {
     "name": "stdout",
     "output_type": "stream",
     "text": [
      "{\"a03-066-01.png\": \"remove these doubts , and to persuade the\", \"a05-013-00.png\": \"The scheme will be subject to Cabinet\", \"a06-147-02.png\": \"WEST GERMANY - Russia would like to see a clear #\", \"c03-003b-03.png\": \"the marriage of the central characters to their\", \"c03-081b-00.png\": \"Arguably , the dramatist has committed a\", \"e01-119-06.png\": \"( Fig. 3 ) . Loop thread round little finger ,\", \"e02-086-04.png\": \"any case may be regarded as a good beginning to\", \"f03-182-02.png\": \"sympathy . And you want to get it from the word\", \"h04-000-00.png\": \"Nevertheless , average net family income\", \"h06-092-04.png\": \"carried by a short length of belt\", \"k07-067a-00.png\": \"He was having a ball ! He twiddled the TV set with\"}"
     ]
    }
   ],
   "source": [
    "!cat ./test/labels.json"
   ]
  },
  {
   "cell_type": "code",
   "execution_count": null,
   "metadata": {
    "collapsed": true
   },
   "outputs": [],
   "source": []
  }
 ],
 "metadata": {
  "kernelspec": {
   "display_name": "Python 3",
   "language": "python",
   "name": "python3"
  },
  "language_info": {
   "codemirror_mode": {
    "name": "ipython",
    "version": 3
   },
   "file_extension": ".py",
   "mimetype": "text/x-python",
   "name": "python",
   "nbconvert_exporter": "python",
   "pygments_lexer": "ipython3",
   "version": "3.6.3"
  }
 },
 "nbformat": 4,
 "nbformat_minor": 2
}
