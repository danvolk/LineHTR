{
 "cells": [
  {
   "cell_type": "markdown",
   "metadata": {},
   "source": [
    "# ZYu Data Helper 1\n",
    "\n",
    "## Load files to `./train/` and create `/train/labels.json`\n",
    "\n",
    "STEPS\n",
    "\n",
    "First unzip `lines.tgz` into folder \"data/line_data\", also put the file `lines.txt` there.\n",
    "\n",
    "\n",
    "\n",
    "- Read `line.txt` into a data-frame, which will serve as `index` to data-files\n",
    "\n",
    "- Choose some files from the `index` to serve as train data\n",
    "\n",
    "- Copy those files to `data/train`\n",
    "\n",
    "- Create `labels.json` and place it in `data/train`"
   ]
  },
  {
   "cell_type": "code",
   "execution_count": 30,
   "metadata": {
    "collapsed": true
   },
   "outputs": [],
   "source": [
    "import warnings\n",
    "warnings.filterwarnings('ignore')\n",
    "\n",
    "import re\n",
    "import os\n",
    "\n",
    "import numpy as np\n",
    "import pandas as pd\n",
    "\n",
    "import matplotlib.pyplot as plt\n",
    "%matplotlib inline\n",
    "\n",
    "from tqdm import tnrange, tqdm_notebook\n",
    "\n",
    "from sklearn.model_selection import train_test_split\n",
    "\n",
    "import json"
   ]
  },
  {
   "cell_type": "markdown",
   "metadata": {},
   "source": [
    "# Preliminary EDA"
   ]
  },
  {
   "cell_type": "code",
   "execution_count": 5,
   "metadata": {},
   "outputs": [
    {
     "name": "stdout",
     "output_type": "stream",
     "text": [
      "#--- lines.txt ---------------------------------------------------------------#\n",
      "#\n",
      "# iam database line information\n",
      "#\n",
      "# format: a01-000u-00 ok 154 19 408 746 1663 91 A|MOVE|to|stop|Mr.|Gaitskell|from\n",
      "#\n",
      "#     a01-000u-00  -> line id for form a01-000u\n",
      "#     ok              -> result of word segmentation\n",
      "#                            ok: line is correctly segmented\n",
      "#                            err: segmentation of line has one or more errors\n",
      "#\n",
      "#                        notice: if the line could not be properly segmented\n",
      "#                                the transcription and extraction of the whole\n",
      "#                                line should not be affected negatively\n",
      "#\n",
      "#     154             -> graylevel to binarize line\n",
      "#     19              -> number of components for this line\n",
      "#     408 746 1663 91 -> bounding box around this line in x,y,w,h format\n",
      "#\n",
      "#     A|MOVE|to|stop|Mr.|Gaitskell|from\n",
      "#                     -> transcription for this line. word tokens are separated\n",
      "#                        by the character |\n",
      "#\n"
     ]
    }
   ],
   "source": [
    "!head -23 lines.txt"
   ]
  },
  {
   "cell_type": "code",
   "execution_count": 6,
   "metadata": {},
   "outputs": [
    {
     "name": "stdout",
     "output_type": "stream",
     "text": [
      "a01-000u-00 ok 154 19 408 746 1661 89 A|MOVE|to|stop|Mr.|Gaitskell|from\n",
      "a01-000u-01 ok 156 19 395 932 1850 105 nominating|any|more|Labour|life|Peers\n",
      "a01-000u-02 ok 157 16 408 1106 1986 105 is|to|be|made|at|a|meeting|of|Labour\n",
      "a01-000u-03 err 156 23 430 1290 1883 70 M Ps|tomorrow|.|Mr.|Michael|Foot|has\n",
      "a01-000u-04 ok 157 20 395 1474 1830 94 put|down|a|resolution|on|the|subject\n",
      "a01-000u-05 err 156 21 379 1643 1854 88 and|he|is|to|be|backed|by|Mr.|Will\n",
      "a01-000u-06 ok 159 20 363 1825 2051 87 Griffiths|,|M P|for|Manchester|Exchange|.\n",
      "a01-000x-00 ok 182 30 375 748 1561 148 A|MOVE|to|stop|Mr.|Gaitskell|from|nominating\n",
      "a01-000x-01 ok 181 23 382 924 1595 148 any|more|Labour|life|Peers|is|to|be|made|at|a\n",
      "a01-000x-02 ok 181 30 386 1110 1637 140 meeting|of|Labour|0M Ps|tomorrow|.|Mr.|Michael\n",
      "a01-000x-03 ok 179 22 375 1276 1584 154 Foot|has|put|down|a|resolution|on|the|subject\n",
      "a01-000x-04 ok 173 25 397 1458 1647 148 and|he|is|to|be|backed|by|Mr.|Will|Griffiths|,\n",
      "a01-000x-05 ok 173 16 393 1635 1082 155 0M P|for|Manchester|Exchange|.\n",
      "a01-003-00 ok 176 31 325 896 1807 139 Though|they|may|gather|some|Left-wing|support|,|a\n",
      "a01-003-01 ok 176 29 319 1078 1787 126 large|majority|of|Labour|M Ps|are|likely|to\n",
      "a01-003-02 ok 176 29 315 1259 1744 128 turn|down|the|Foot-Griffiths|resolution|.|Mr.\n",
      "a01-003-03 ok 176 28 316 1441 1750 70 Foot's|line|will|be|that|as|Labour|M Ps\n",
      "a01-003-04 ok 161 28 325 1619 1848 113 opposed|the|Government|Bill|which|brought\n",
      "a01-003-05 ok 176 29 325 1779 1871 143 life|peers|into|existence|,|they|should|not\n",
      "a01-003-06 ok 176 28 326 1980 1873 126 now|put|forward|nominees|.|He|believes\n",
      "a01-003-07 ok 161 27 295 2147 1921 129 that|the|House|of|Lords|should|be|abolished\n",
      "a01-003-08 ok 161 29 317 2318 1849 117 and|that|Labour|should|not|take|any|steps\n",
      "a01-003-09 err 161 29 313 2509 1975 125 which|would|appear|to|\"|prop|up|\"|an|out-dated\n",
      "a01-003-10 ok 161 11 322 2701 363 66 institution|.\n",
      "a01-003u-00 ok 159 18 357 800 1938 106 Though|they|may|gather|some|Left-wing\n"
     ]
    }
   ],
   "source": [
    "!head -25 lines_copy.txt"
   ]
  },
  {
   "cell_type": "markdown",
   "metadata": {},
   "source": [
    "### NOTE\n",
    "\n",
    "There are lines (4, 13 ...) with label containing spaces that can cause trouble when spliting by \" \":\n",
    "\n",
    "`a01-000x-05 ok 173 16 393 1635 1082 155 0M P|for|Manchester|Exchange|.`\n",
    "\n",
    "EDA shows 13317 rows have 9 fields, but there are 23 rows with 10 fields, and 13 rows with 11 fields, these will cause trouble if reading the 'lines_copy.txt' file into CSV."
   ]
  },
  {
   "cell_type": "code",
   "execution_count": 7,
   "metadata": {
    "collapsed": true
   },
   "outputs": [
    {
     "name": "stdout",
     "output_type": "stream",
     "text": [
      "a01-000u-03 err 156 23 430 1290 1883 70 M Ps|tomorrow|.|Mr.|Michael|Foot|has\n",
      "\n",
      "a01-000u-06 ok 159 20 363 1825 2051 87 Griffiths|,|M P|for|Manchester|Exchange|.\n",
      "\n",
      "a01-000x-02 ok 181 30 386 1110 1637 140 meeting|of|Labour|0M Ps|tomorrow|.|Mr.|Michael\n",
      "\n",
      "a01-000x-05 ok 173 16 393 1635 1082 155 0M P|for|Manchester|Exchange|.\n",
      "\n",
      "a01-003-01 ok 176 29 319 1078 1787 126 large|majority|of|Labour|M Ps|are|likely|to\n",
      "\n",
      "a01-003-03 ok 176 28 316 1441 1750 70 Foot's|line|will|be|that|as|Labour|M Ps\n",
      "\n",
      "a01-003u-02 ok 161 21 356 1162 1908 96 M Ps|are|likely|to|turn|down|the|Foot-\n",
      "\n",
      "a01-003u-04 ok 161 13 351 1515 1869 103 be|that|as|Labour|M Ps|opposed|the\n",
      "\n",
      "a01-003x-01 ok 176 28 307 1046 1831 170 large|majority|of|Labour|0M Ps|are|likely|to|turn\n",
      "\n",
      "a01-003x-03 err 169 26 325 1423 1839 128 will|be|that|as|Labour|0M Ps|opposed|the|Govern-\n",
      "\n",
      "a01-030-02 ok 176 20 305 1083 1815 100 M Ps|yesterday|:|\"|I|have|no|knowledge|of|secret|negotiations|.|\"\n",
      "\n",
      "a01-030u-02 err 170 22 330 1163 1856 93 meeting|.|But|he|told|M Ps|yesterday|:|\"|I\n",
      "\n",
      "a01-030x-02 ok 158 30 336 1250 1670 112 meeting|.|But|he|told|M Ps|yesterday|:|\"|I\n",
      "\n",
      "a01-087-04 ok 161 17 372 1640 1736 142 ment|-|and|ended|by|inciting|Labour|M Ps\n",
      "\n",
      "a01-087u-05 ok 168 21 362 1646 1879 84 Labour|M Ps|to|angry|uproar|.|One|dealt\n",
      "\n",
      "a01-128-00 ok 160 21 367 743 1695 123 When|Mr.|Brown|sat|down|Labour|M Ps|cheered|for\n",
      "\n",
      "a01-128u-00 ok 173 16 375 804 1828 81 When|Mr.|Brown|sat|down|Labour|M Ps\n",
      "\n",
      "c04-039-01 ok 195 21 339 886 1796 181 DONALD|HOUSTON|had|a|big|success|on|A T V's\n",
      "\n",
      "c04-050-06 ok 169 30 333 1790 2021 152 was|not|enough|.|\"|A|FAIR|COP|,|\"|the|B B C\n",
      "\n",
      "c04-122-03 err 176 50 325 1465 1929 124 Russell|Turner|,|33|,|provides|his|last|programme|for|the|B B C|tonight\n",
      "\n",
      "c04-122-07 ok 173 26 323 2180 1086 132 T V|,|film|and|stage|production|work|.\n",
      "\n",
      "c04-128-00 ok 177 27 331 729 1784 126 \"|I|feel|I|'ve|done|all|I|can|at|the|B B C|,|\"|he\n",
      "\n",
      "c04-128-05 err 175 32 324 1618 1783 168 Harry|Carroll|from|Leicester|(|B B C|,|8.25|)|.|A\n",
      "\n",
      "c04-128-07 err 179 46 327 1964 1951 166 Hughes|in|his|\"|Make|Mine|Music|\"|(|B B C|,|9.30|p.m.|)|.\n",
      "\n",
      "c04-134-02 err 189 44 319 1100 1665 125 Fay|Compton|stars|in|\"|No|Hiding|Place|\"|(|I T V|,|9.35|p.m.|)|.\n",
      "\n",
      "c04-134-06 ok 186 13 335 1820 462 112 (|B B C|,|10.15|)|.\n",
      "\n",
      "c04-139-03 ok 189 45 275 1290 1838 133 I T V|have|postponed|Malcolm|Muggeridge's|\"|Appointment|with\n",
      "\n",
      "c04-144-00 err 185 31 274 707 2120 129 Say|Granada|T V|,|the|producers|:|\"|We|decided|to|make\n",
      "\n",
      "c04-144-04 err 182 36 305 1417 2047 120 success|last|night|in|I T V's|\"|Private|Potter|,|\"|his\n",
      "\n",
      "c04-144-05 ok 181 29 303 1600 2145 163 first|big|T V|part|.|The|play|was|a|brilliantly-written\n",
      "\n",
      "c04-150-02 ok 182 32 292 1063 2117 135 C O|believed|him|.|Courtenay|played|the|part|with|a|gawky|,\n",
      "\n",
      "c04-156-03 ok 177 16 329 1251 1693 186 sympathetic|C O|.|Paul|Daneman|gave|another\n",
      "\n",
      "c04-156-05 ok 172 20 354 1618 1557 147 wartime|naval|officer|in|the|B B C's\n",
      "\n",
      "c04-160-07 err 173 22 345 1979 1729 156 the|B B C|last|night|that|an|American|film|,\n",
      "\n",
      "c04-165-03 ok 183 43 334 1405 1698 98 of|an|American|T V|reporter|,|Eric|Sevareid|,|and\n",
      "\n",
      "h01-027-06 ok 147 23 304 1917 1842 117 of|usual|residence|(|n log n|)|.|But|the|need\n",
      "\n"
     ]
    },
    {
     "data": {
      "text/plain": [
       "defaultdict(int, {9: 13317, 10: 23, 11: 13})"
      ]
     },
     "execution_count": 7,
     "metadata": {},
     "output_type": "execute_result"
    }
   ],
   "source": [
    "# SHOW LINES WITH > 9 FIELDS\n",
    "# count the number of fields if delimited by \" \"\n",
    "from collections import defaultdict\n",
    "\n",
    "file_in = 'lines_copy.txt'\n",
    "\n",
    "fhand = open(file_in)\n",
    "\n",
    "num_count = defaultdict(int)\n",
    "\n",
    "for line in fhand:\n",
    "    num = len(line.split(\" \"))\n",
    "    num_count[num] +=1\n",
    "    if num > 9:\n",
    "        print(line)\n",
    "\n",
    "fhand.close()\n",
    "\n",
    "num_count"
   ]
  },
  {
   "cell_type": "markdown",
   "metadata": {},
   "source": [
    "# 1. Read meta-data into a dataframe"
   ]
  },
  {
   "cell_type": "code",
   "execution_count": 9,
   "metadata": {},
   "outputs": [
    {
     "data": {
      "text/html": [
       "<div>\n",
       "<style scoped>\n",
       "    .dataframe tbody tr th:only-of-type {\n",
       "        vertical-align: middle;\n",
       "    }\n",
       "\n",
       "    .dataframe tbody tr th {\n",
       "        vertical-align: top;\n",
       "    }\n",
       "\n",
       "    .dataframe thead th {\n",
       "        text-align: right;\n",
       "    }\n",
       "</style>\n",
       "<table border=\"1\" class=\"dataframe\">\n",
       "  <thead>\n",
       "    <tr style=\"text-align: right;\">\n",
       "      <th></th>\n",
       "      <th>id</th>\n",
       "      <th>wseg_status</th>\n",
       "      <th>graylevel</th>\n",
       "      <th>num_components</th>\n",
       "      <th>x</th>\n",
       "      <th>y</th>\n",
       "      <th>w</th>\n",
       "      <th>h</th>\n",
       "      <th>label</th>\n",
       "    </tr>\n",
       "  </thead>\n",
       "  <tbody>\n",
       "    <tr>\n",
       "      <th>0</th>\n",
       "      <td>a01-000u-00</td>\n",
       "      <td>ok</td>\n",
       "      <td>154</td>\n",
       "      <td>19</td>\n",
       "      <td>408</td>\n",
       "      <td>746</td>\n",
       "      <td>1661</td>\n",
       "      <td>89</td>\n",
       "      <td>A MOVE to stop Mr. Gaitskell from</td>\n",
       "    </tr>\n",
       "    <tr>\n",
       "      <th>1</th>\n",
       "      <td>a01-000u-01</td>\n",
       "      <td>ok</td>\n",
       "      <td>156</td>\n",
       "      <td>19</td>\n",
       "      <td>395</td>\n",
       "      <td>932</td>\n",
       "      <td>1850</td>\n",
       "      <td>105</td>\n",
       "      <td>nominating any more Labour life Peers</td>\n",
       "    </tr>\n",
       "    <tr>\n",
       "      <th>2</th>\n",
       "      <td>a01-000u-02</td>\n",
       "      <td>ok</td>\n",
       "      <td>157</td>\n",
       "      <td>16</td>\n",
       "      <td>408</td>\n",
       "      <td>1106</td>\n",
       "      <td>1986</td>\n",
       "      <td>105</td>\n",
       "      <td>is to be made at a meeting of Labour</td>\n",
       "    </tr>\n",
       "    <tr>\n",
       "      <th>3</th>\n",
       "      <td>a01-000u-03</td>\n",
       "      <td>err</td>\n",
       "      <td>156</td>\n",
       "      <td>23</td>\n",
       "      <td>430</td>\n",
       "      <td>1290</td>\n",
       "      <td>1883</td>\n",
       "      <td>70</td>\n",
       "      <td>M Ps tomorrow . Mr. Michael Foot has</td>\n",
       "    </tr>\n",
       "    <tr>\n",
       "      <th>4</th>\n",
       "      <td>a01-000u-04</td>\n",
       "      <td>ok</td>\n",
       "      <td>157</td>\n",
       "      <td>20</td>\n",
       "      <td>395</td>\n",
       "      <td>1474</td>\n",
       "      <td>1830</td>\n",
       "      <td>94</td>\n",
       "      <td>put down a resolution on the subject</td>\n",
       "    </tr>\n",
       "  </tbody>\n",
       "</table>\n",
       "</div>"
      ],
      "text/plain": [
       "            id wseg_status  graylevel  num_components    x     y     w    h  \\\n",
       "0  a01-000u-00          ok        154              19  408   746  1661   89   \n",
       "1  a01-000u-01          ok        156              19  395   932  1850  105   \n",
       "2  a01-000u-02          ok        157              16  408  1106  1986  105   \n",
       "3  a01-000u-03         err        156              23  430  1290  1883   70   \n",
       "4  a01-000u-04          ok        157              20  395  1474  1830   94   \n",
       "\n",
       "                                   label  \n",
       "0      A MOVE to stop Mr. Gaitskell from  \n",
       "1  nominating any more Labour life Peers  \n",
       "2   is to be made at a meeting of Labour  \n",
       "3   M Ps tomorrow . Mr. Michael Foot has  \n",
       "4   put down a resolution on the subject  "
      ]
     },
     "execution_count": 9,
     "metadata": {},
     "output_type": "execute_result"
    }
   ],
   "source": [
    "file_in = 'lines_copy.txt'\n",
    "\n",
    "fhand = open(file_in)\n",
    "data_list = [] \n",
    "\n",
    "for line in fhand:\n",
    "    item = line.split(\" \")   # split the line\n",
    "    num = len(item)          # number of fields if line delimited by \" \"\n",
    "    \n",
    "    if num == 9:             # good lines\n",
    "        label = item[8]      # last field is label if only 9 field\n",
    "    else:                    # bad lines with spaces in \"label\"\n",
    "        label = \" \".join(item[8:])    # join the remaining fields - this is label\n",
    "\n",
    "    new_data  ={'id': item[0], \n",
    "                'wseg_status': item[1], \n",
    "                'graylevel': int(item[2]), \n",
    "                'num_components': int(item[3]), \n",
    "                'x': int(item[4]), \n",
    "                'y': int(item[5]), \n",
    "                'w': int(item[6]), \n",
    "                'h': int(item[7]), \n",
    "                'label': label.rstrip().replace(\"|\", \" \")}   # remove \"\\n\", replace \"|\" with \" \"\n",
    "    \n",
    "    data_list.append(new_data)\n",
    "    \n",
    "fhand.close()\n",
    "\n",
    "df = pd.DataFrame(data_list, \n",
    "                  columns=['id', 'wseg_status', 'graylevel', 'num_components', 'x', 'y', 'w', 'h', 'label'])\n",
    "\n",
    "df.head()"
   ]
  },
  {
   "cell_type": "code",
   "execution_count": 10,
   "metadata": {},
   "outputs": [
    {
     "data": {
      "text/plain": [
       "id                object\n",
       "wseg_status       object\n",
       "graylevel          int64\n",
       "num_components     int64\n",
       "x                  int64\n",
       "y                  int64\n",
       "w                  int64\n",
       "h                  int64\n",
       "label             object\n",
       "dtype: object"
      ]
     },
     "execution_count": 10,
     "metadata": {},
     "output_type": "execute_result"
    }
   ],
   "source": [
    "df.dtypes"
   ]
  },
  {
   "cell_type": "code",
   "execution_count": 11,
   "metadata": {},
   "outputs": [
    {
     "data": {
      "image/png": "[encoded data removed]",
      "text/plain": [
       "<Figure size 1080x288 with 2 Axes>"
      ]
     },
     "metadata": {},
     "output_type": "display_data"
    }
   ],
   "source": [
    "plt.figure(1, figsize=(15,4))\n",
    "plt.subplot(121)\n",
    "df['w'].hist(bins=50)\n",
    "plt.subplot(122)\n",
    "df['h'].hist(bins=50)\n",
    "plt.show()"
   ]
  },
  {
   "cell_type": "markdown",
   "metadata": {},
   "source": [
    "# 2. Choose files from the dataframe\n",
    "\n",
    "- `wseg_status` has 11344 `ok`, 2009 `err`\n",
    "\n",
    "- perform a random split on our data"
   ]
  },
  {
   "cell_type": "code",
   "execution_count": 18,
   "metadata": {},
   "outputs": [
    {
     "name": "stdout",
     "output_type": "stream",
     "text": [
      "(10682, 9)\n",
      "(2671, 9)\n"
     ]
    },
    {
     "data": {
      "text/html": [
       "<div>\n",
       "<style scoped>\n",
       "    .dataframe tbody tr th:only-of-type {\n",
       "        vertical-align: middle;\n",
       "    }\n",
       "\n",
       "    .dataframe tbody tr th {\n",
       "        vertical-align: top;\n",
       "    }\n",
       "\n",
       "    .dataframe thead th {\n",
       "        text-align: right;\n",
       "    }\n",
       "</style>\n",
       "<table border=\"1\" class=\"dataframe\">\n",
       "  <thead>\n",
       "    <tr style=\"text-align: right;\">\n",
       "      <th></th>\n",
       "      <th>id</th>\n",
       "      <th>wseg_status</th>\n",
       "      <th>graylevel</th>\n",
       "      <th>num_components</th>\n",
       "      <th>x</th>\n",
       "      <th>y</th>\n",
       "      <th>w</th>\n",
       "      <th>h</th>\n",
       "      <th>label</th>\n",
       "    </tr>\n",
       "  </thead>\n",
       "  <tbody>\n",
       "    <tr>\n",
       "      <th>9797</th>\n",
       "      <td>k04-010-08</td>\n",
       "      <td>ok</td>\n",
       "      <td>145</td>\n",
       "      <td>14</td>\n",
       "      <td>329</td>\n",
       "      <td>2296</td>\n",
       "      <td>1775</td>\n",
       "      <td>151</td>\n",
       "      <td>watching her intently , and turning</td>\n",
       "    </tr>\n",
       "    <tr>\n",
       "      <th>2249</th>\n",
       "      <td>b04-054-06</td>\n",
       "      <td>ok</td>\n",
       "      <td>186</td>\n",
       "      <td>22</td>\n",
       "      <td>310</td>\n",
       "      <td>1822</td>\n",
       "      <td>956</td>\n",
       "      <td>105</td>\n",
       "      <td>company will sign on again .</td>\n",
       "    </tr>\n",
       "    <tr>\n",
       "      <th>10975</th>\n",
       "      <td>m02-069-01</td>\n",
       "      <td>ok</td>\n",
       "      <td>190</td>\n",
       "      <td>52</td>\n",
       "      <td>373</td>\n",
       "      <td>1082</td>\n",
       "      <td>1830</td>\n",
       "      <td>116</td>\n",
       "      <td>with time instil the reverence which , on Eart...</td>\n",
       "    </tr>\n",
       "    <tr>\n",
       "      <th>9169</th>\n",
       "      <td>h07-078a-05</td>\n",
       "      <td>err</td>\n",
       "      <td>135</td>\n",
       "      <td>18</td>\n",
       "      <td>182</td>\n",
       "      <td>1557</td>\n",
       "      <td>1685</td>\n",
       "      <td>154</td>\n",
       "      <td>and other materials , and the shortage of</td>\n",
       "    </tr>\n",
       "    <tr>\n",
       "      <th>7168</th>\n",
       "      <td>g06-026f-00</td>\n",
       "      <td>err</td>\n",
       "      <td>191</td>\n",
       "      <td>26</td>\n",
       "      <td>380</td>\n",
       "      <td>722</td>\n",
       "      <td>1716</td>\n",
       "      <td>88</td>\n",
       "      <td>A pleasant life truly ! ... It so happens that...</td>\n",
       "    </tr>\n",
       "  </tbody>\n",
       "</table>\n",
       "</div>"
      ],
      "text/plain": [
       "                id wseg_status  graylevel  num_components    x     y     w  \\\n",
       "9797    k04-010-08          ok        145              14  329  2296  1775   \n",
       "2249    b04-054-06          ok        186              22  310  1822   956   \n",
       "10975   m02-069-01          ok        190              52  373  1082  1830   \n",
       "9169   h07-078a-05         err        135              18  182  1557  1685   \n",
       "7168   g06-026f-00         err        191              26  380   722  1716   \n",
       "\n",
       "         h                                              label  \n",
       "9797   151                watching her intently , and turning  \n",
       "2249   105                       company will sign on again .  \n",
       "10975  116  with time instil the reverence which , on Eart...  \n",
       "9169   154          and other materials , and the shortage of  \n",
       "7168    88  A pleasant life truly ! ... It so happens that...  "
      ]
     },
     "execution_count": 18,
     "metadata": {},
     "output_type": "execute_result"
    }
   ],
   "source": [
    "df_train, df_test = train_test_split(df, test_size=0.2)\n",
    "\n",
    "print(df_train.shape)\n",
    "print(df_test.shape)\n",
    "\n",
    "df_test.head()"
   ]
  },
  {
   "cell_type": "markdown",
   "metadata": {},
   "source": [
    "# 3. Copy the chosen files to the destination and create json\n",
    "\n",
    "For example, the first line:\n",
    "\n",
    "- source: `./line_data/a03/a03-066/a03-066-01.png`\n",
    "\n",
    "- destination: `./train/a03-066-01.png`\n",
    "\n",
    "- label: `remove|these|doubts|,|and|to|persuade|the`\n",
    "\n",
    "Work flow:\n",
    "\n",
    "- initialize `file_list={}`\n",
    "\n",
    "- loop through each line in the data frame\n",
    "\n",
    "- use `id` field to create `source` and `destination`, `file_name`\n",
    "\n",
    "- use `label` to create `label`\n",
    "\n",
    "- copy `source` to `destination`\n",
    "\n",
    "- add `{file_name: label}` to `file_list`\n",
    "\n",
    "- create `labels.json` and put it in `./train`\n",
    "\n"
   ]
  },
  {
   "cell_type": "markdown",
   "metadata": {},
   "source": [
    "### Define helper functions"
   ]
  },
  {
   "cell_type": "code",
   "execution_count": 19,
   "metadata": {
    "collapsed": true
   },
   "outputs": [],
   "source": [
    "def clean_folder(destination_dir):\n",
    "    \"\"\"\n",
    "    only delete files and to used the os.path.join() method  \n",
    "    If you also want to remove subdirectories, uncomment the elif statement.\n",
    "    \"\"\"\n",
    "    \n",
    "    import os, shutil\n",
    "    folder = destination_dir\n",
    "    \n",
    "    count = 0\n",
    "    for the_file in os.listdir(folder):\n",
    "        file_path = os.path.join(folder, the_file)\n",
    "        try:\n",
    "            if os.path.isfile(file_path):\n",
    "                os.unlink(file_path)\n",
    "                count += 1\n",
    "            #elif os.path.isdir(file_path): shutil.rmtree(file_path)\n",
    "        except Exception as e:\n",
    "            print(e)\n",
    "    print(\"Successfully removed\", count, \"files\")        \n",
    "    \n",
    "\n",
    "def copy_files(df, source_dir, destination_dir):\n",
    "    \"\"\"\n",
    "    copying files from source to destionation\n",
    "    INPUT: df is a dataframe containing file information\n",
    "    OUTPUT: json_list of {file_name:file_label} pairs    \n",
    "    \"\"\"\n",
    "\n",
    "    from shutil import copy2\n",
    "    json_dict = dict()\n",
    "\n",
    "    for i in tnrange(df.shape[0], desc='copying files'):    \n",
    "\n",
    "        # read data from each row\n",
    "        file_data = df.iloc[i]            # each line in dataframe\n",
    "        file_id = file_data['id']         # data for file\n",
    "        file_name = file_id + '.png'      # file_name\n",
    "        file_label = file_data['label']   # label\n",
    "        \n",
    "        # create source and destination \n",
    "        id_pc = file_id.split(\"-\")\n",
    "        source = source_dir + id_pc[0] + \"/\" + id_pc[0] + \"-\" + id_pc[1] + \"/\" + file_name\n",
    "        destination = destination_dir  + file_name\n",
    "\n",
    "        # copy source to destination\n",
    "        copy2(source, destination)\n",
    "\n",
    "        # append the {file_name: file_label} to json_list\n",
    "        json_dict[file_name]= file_label\n",
    "\n",
    "    return json_dict\n",
    "\n",
    "def write_json_file(destination_dir, json_dict):\n",
    "    \"\"\"\n",
    "    write json to the 'labels.json file in the destination directory\n",
    "    \"\"\"\n",
    "\n",
    "    with open(destination_dir + 'labels.json', 'w') as fout:\n",
    "        json.dump(json_dict, fout)\n",
    "        \n",
    "    print(destination_dir+'labels.json has been created.')"
   ]
  },
  {
   "cell_type": "markdown",
   "metadata": {},
   "source": [
    "### Copy files listed in the input dataframe to destination"
   ]
  },
  {
   "cell_type": "code",
   "execution_count": 20,
   "metadata": {
    "collapsed": true
   },
   "outputs": [],
   "source": [
    "source_dir = './line_data/'\n",
    "destination_dir = './train/'"
   ]
  },
  {
   "cell_type": "code",
   "execution_count": 22,
   "metadata": {},
   "outputs": [
    {
     "name": "stdout",
     "output_type": "stream",
     "text": [
      "Successfully removed 0 files\n"
     ]
    }
   ],
   "source": [
    "# OPTIONAL: clean the destination folder if needed\n",
    "clean_folder(destination_dir)"
   ]
  },
  {
   "cell_type": "code",
   "execution_count": 23,
   "metadata": {},
   "outputs": [
    {
     "data": {
      "application/vnd.jupyter.widget-view+json": {
       "model_id": "351cb88019ab444cadd88cf64181db93",
       "version_major": 2,
       "version_minor": 0
      },
      "text/plain": [
       "HBox(children=(IntProgress(value=0, description='copying files', max=10682, style=ProgressStyle(description_wi…"
      ]
     },
     "metadata": {},
     "output_type": "display_data"
    },
    {
     "name": "stdout",
     "output_type": "stream",
     "text": [
      "\n",
      "Copied 10682 files.\n"
     ]
    }
   ],
   "source": [
    "# copying files from source to destination\n",
    "json_dict = copy_files(df_train, source_dir, destination_dir)\n",
    "\n",
    "print(\"Copied\", len(json_dict), \"files.\")"
   ]
  },
  {
   "cell_type": "code",
   "execution_count": 24,
   "metadata": {},
   "outputs": [
    {
     "name": "stdout",
     "output_type": "stream",
     "text": [
      "  10682   10682  162515\n"
     ]
    }
   ],
   "source": [
    "# take a look\n",
    "!ls train | wc "
   ]
  },
  {
   "cell_type": "markdown",
   "metadata": {},
   "source": [
    "### Write json to `labels.json` and put it in destination directory"
   ]
  },
  {
   "cell_type": "code",
   "execution_count": 25,
   "metadata": {},
   "outputs": [
    {
     "name": "stdout",
     "output_type": "stream",
     "text": [
      "./train/labels.json has been created.\n"
     ]
    }
   ],
   "source": [
    "write_json_file(destination_dir, json_dict)"
   ]
  },
  {
   "cell_type": "code",
   "execution_count": 42,
   "metadata": {},
   "outputs": [
    {
     "name": "stdout",
     "output_type": "stream",
     "text": [
      "l04-012-03.png          He felt a glow of happiness steal over him .\n",
      "j06-022-03.png          at the surface . Among other copepods\n",
      "g04-043-07.png          co-operated , we made the little side chapel a place\n",
      "e04-052-03.png          always used brass screws , which are more expensive . The first\n",
      "g06-037r-09.png         the slightest effect .\n",
      "a02-098-02.png          strong reaction from Sir Roy Welensky to any\n",
      "a01-020u-06.png         seeking . African delegates are studying\n",
      "b05-045-05.png          Martyrs ! \" \" CRICKET , \" says the Oxford\n",
      "g01-022-00.png          BUT NONE OF THESE DEDUCTIONS WERE\n",
      "c03-084a-07.png         power of unbridled ambition .\n"
     ]
    }
   ],
   "source": [
    "with open('./train/labels.json') as f:\n",
    "    train_json = json.load(f)\n",
    "    \n",
    "for key, val in list(train_json.items())[0:10]:\n",
    "    print('{:20s}    {}'.format(key, val))"
   ]
  },
  {
   "cell_type": "markdown",
   "metadata": {},
   "source": [
    "### copy some files to `./test` as well"
   ]
  },
  {
   "cell_type": "code",
   "execution_count": 43,
   "metadata": {},
   "outputs": [
    {
     "name": "stdout",
     "output_type": "stream",
     "text": [
      "Successfully removed 0 files\n"
     ]
    }
   ],
   "source": [
    "source_dir = './line_data/'\n",
    "destination_dir = './test/'\n",
    "\n",
    "# OPTIONAL: clean the destination folder if needed\n",
    "clean_folder(destination_dir)"
   ]
  },
  {
   "cell_type": "code",
   "execution_count": 44,
   "metadata": {},
   "outputs": [
    {
     "data": {
      "application/vnd.jupyter.widget-view+json": {
       "model_id": "543a7842bbc04884aab832a6c597276a",
       "version_major": 2,
       "version_minor": 0
      },
      "text/plain": [
       "HBox(children=(IntProgress(value=0, description='copying files', max=2671, style=ProgressStyle(description_wid…"
      ]
     },
     "metadata": {},
     "output_type": "display_data"
    },
    {
     "name": "stdout",
     "output_type": "stream",
     "text": [
      "\n",
      "Copied 2671 files.\n"
     ]
    }
   ],
   "source": [
    "# copying files from source to destination\n",
    "json_dict = copy_files(df_test, source_dir, destination_dir)\n",
    "\n",
    "print(\"Copied\", len(json_dict), \"files.\")"
   ]
  },
  {
   "cell_type": "code",
   "execution_count": 45,
   "metadata": {},
   "outputs": [
    {
     "name": "stdout",
     "output_type": "stream",
     "text": [
      "./test/labels.json has been created.\n"
     ]
    }
   ],
   "source": [
    "write_json_file(destination_dir, json_dict)"
   ]
  },
  {
   "cell_type": "code",
   "execution_count": 47,
   "metadata": {},
   "outputs": [
    {
     "name": "stdout",
     "output_type": "stream",
     "text": [
      "k04-010-08.png          watching her intently , and turning\n",
      "b04-054-06.png          company will sign on again .\n",
      "m02-069-01.png          with time instil the reverence which , on Earth , nature inspires ,\n",
      "h07-078a-05.png         and other materials , and the shortage of\n",
      "g06-026f-00.png         A pleasant life truly ! ... It so happens that I have an Italian\n",
      "n06-123-07.png          got hotter as the day wore on and we rested\n",
      "k07-166-03.png          You think that sculptor 's a god ?\n",
      "g07-003b-06.png         Government's other representatives in the islands , while they\n",
      "n02-045-06.png          sugary things you ought to have been there\n",
      "j04-070-01.png          interfere . Strontium does not form a chloro-complex\n"
     ]
    }
   ],
   "source": [
    "with open('./test/labels.json') as f:\n",
    "    train_json = json.load(f)\n",
    "    \n",
    "for key, val in list(train_json.items())[0:10]:\n",
    "    print('{:20s}    {}'.format(key, val))"
   ]
  },
  {
   "cell_type": "code",
   "execution_count": null,
   "metadata": {
    "collapsed": true
   },
   "outputs": [],
   "source": []
  }
 ],
 "metadata": {
  "kernelspec": {
   "display_name": "Python 3",
   "language": "python",
   "name": "python3"
  },
  "language_info": {
   "codemirror_mode": {
    "name": "ipython",
    "version": 3
   },
   "file_extension": ".py",
   "mimetype": "text/x-python",
   "name": "python",
   "nbconvert_exporter": "python",
   "pygments_lexer": "ipython3",
   "version": "3.6.5"
  }
 },
 "nbformat": 4,
 "nbformat_minor": 2
}
